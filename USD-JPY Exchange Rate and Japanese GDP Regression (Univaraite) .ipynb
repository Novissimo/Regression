{
 "cells": [
  {
   "cell_type": "markdown",
   "metadata": {},
   "source": [
    "Exchange rates are one of the most interesting aspects of the global economy. Understanding exchange rates is vital for central banks, import-export businesses, and expatriates. Exchange rates can be affected by a myriad of factors. But what factors exactly? This article will perform a linear regression and explore the relationship between Japanese GDP and the Dollar-Yen exchange rate."
   ]
  },
  {
   "cell_type": "markdown",
   "metadata": {},
   "source": [
    "\n",
    "### Steps for Regression\n",
    "\n",
    "1. Research Question and Data\n",
    "2. Estimate the Correlation and Regression Coefficients (r and Least Squares)\n",
    "3. Assess Accuracy of Coefficient Estimates (Error)\n",
    "4. Hypothesis Testing and Significance (T statistic and P value)\n",
    "5. Plot Regression Line\n",
    "6. Assess the Accuracy of the Model (Residual Standard Error)\n",
    "7. Plot Residuals"
   ]
  },
  {
   "cell_type": "code",
   "execution_count": 1,
   "metadata": {
    "collapsed": false
   },
   "outputs": [
    {
     "name": "stdout",
     "output_type": "stream",
     "text": [
      "Populating the interactive namespace from numpy and matplotlib\n"
     ]
    },
    {
     "name": "stderr",
     "output_type": "stream",
     "text": [
      "/home/nova/anaconda3/lib/python3.5/site-packages/IPython/core/magics/pylab.py:161: UserWarning: pylab import has clobbered these variables: ['unique', 'test', 'info', 'types', 'datetime']\n",
      "`%matplotlib` prevents importing * from pylab and numpy\n",
      "  \"\\n`%matplotlib` prevents importing * from pylab and numpy\"\n"
     ]
    }
   ],
   "source": [
    "from pandas import *\n",
    "import pandas as pd\n",
    "import numpy as np\n",
    "import seaborn as sns\n",
    "import matplotlib.pyplot as plt\n",
    "%matplotlib inline\n",
    "%pylab inline\n",
    "pylab.rcParams['figure.figsize']=(12,9)"
   ]
  },
  {
   "cell_type": "code",
   "execution_count": 2,
   "metadata": {
    "collapsed": true
   },
   "outputs": [],
   "source": [
    "import scipy \n",
    "from scipy import stats\n",
    "from scipy.stats import t"
   ]
  },
  {
   "cell_type": "code",
   "execution_count": 3,
   "metadata": {
    "collapsed": true
   },
   "outputs": [],
   "source": [
    "import sklearn\n",
    "from sklearn.linear_model import LinearRegression"
   ]
  },
  {
   "cell_type": "markdown",
   "metadata": {},
   "source": [
    "### Step 1. Research Question and Data\n",
    "\n",
    "What is the relationship between the Dollar-Yen Exchange rate and Japanese GDP? Does GDP affect the Exchange Rate?\n",
    "\n",
    "The data can be accessed via the Federal Reserve Economic Database. Make sure to set the frequency to quarterly. Download files as .csv.\n",
    "\n",
    "https://fred.stlouisfed.org/series/JPNNGDP\n",
    "\n",
    "https://fred.stlouisfed.org/series/DEXJPUS"
   ]
  },
  {
   "cell_type": "code",
   "execution_count": 4,
   "metadata": {
    "collapsed": true
   },
   "outputs": [],
   "source": [
    "yen_dollar = 'DEXJPUS.csv'\n",
    "\n",
    "jp_gdp = 'JPNNGDP.csv'"
   ]
  },
  {
   "cell_type": "code",
   "execution_count": 5,
   "metadata": {
    "collapsed": true
   },
   "outputs": [],
   "source": [
    "exchange = read_csv(yen_dollar)\n",
    "\n",
    "jp_gdp = read_csv(jp_gdp)"
   ]
  },
  {
   "cell_type": "code",
   "execution_count": 6,
   "metadata": {
    "collapsed": false
   },
   "outputs": [],
   "source": [
    "new_table = pd.merge(jp_gdp,exchange)"
   ]
  },
  {
   "cell_type": "code",
   "execution_count": 7,
   "metadata": {
    "collapsed": false
   },
   "outputs": [
    {
     "data": {
      "text/html": [
       "<div>\n",
       "<table border=\"1\" class=\"dataframe\">\n",
       "  <thead>\n",
       "    <tr style=\"text-align: right;\">\n",
       "      <th></th>\n",
       "      <th>DATE</th>\n",
       "      <th>JPNNGDP</th>\n",
       "      <th>DEXJPUS</th>\n",
       "    </tr>\n",
       "  </thead>\n",
       "  <tbody>\n",
       "    <tr>\n",
       "      <th>0</th>\n",
       "      <td>2006-01-01</td>\n",
       "      <td>525526.8</td>\n",
       "      <td>115.48</td>\n",
       "    </tr>\n",
       "    <tr>\n",
       "      <th>1</th>\n",
       "      <td>2006-04-01</td>\n",
       "      <td>526522.3</td>\n",
       "      <td>117.07</td>\n",
       "    </tr>\n",
       "    <tr>\n",
       "      <th>2</th>\n",
       "      <td>2006-07-01</td>\n",
       "      <td>524676.2</td>\n",
       "      <td>115.77</td>\n",
       "    </tr>\n",
       "    <tr>\n",
       "      <th>3</th>\n",
       "      <td>2006-10-01</td>\n",
       "      <td>530801.0</td>\n",
       "      <td>118.61</td>\n",
       "    </tr>\n",
       "    <tr>\n",
       "      <th>4</th>\n",
       "      <td>2007-01-01</td>\n",
       "      <td>533919.5</td>\n",
       "      <td>120.45</td>\n",
       "    </tr>\n",
       "    <tr>\n",
       "      <th>5</th>\n",
       "      <td>2007-04-01</td>\n",
       "      <td>533642.5</td>\n",
       "      <td>118.93</td>\n",
       "    </tr>\n",
       "    <tr>\n",
       "      <th>6</th>\n",
       "      <td>2007-07-01</td>\n",
       "      <td>529539.0</td>\n",
       "      <td>121.41</td>\n",
       "    </tr>\n",
       "    <tr>\n",
       "      <th>7</th>\n",
       "      <td>2007-10-01</td>\n",
       "      <td>529607.5</td>\n",
       "      <td>115.87</td>\n",
       "    </tr>\n",
       "    <tr>\n",
       "      <th>8</th>\n",
       "      <td>2008-01-01</td>\n",
       "      <td>530472.2</td>\n",
       "      <td>107.82</td>\n",
       "    </tr>\n",
       "    <tr>\n",
       "      <th>9</th>\n",
       "      <td>2008-04-01</td>\n",
       "      <td>525946.8</td>\n",
       "      <td>102.68</td>\n",
       "    </tr>\n",
       "    <tr>\n",
       "      <th>10</th>\n",
       "      <td>2008-07-01</td>\n",
       "      <td>515788.7</td>\n",
       "      <td>106.85</td>\n",
       "    </tr>\n",
       "    <tr>\n",
       "      <th>11</th>\n",
       "      <td>2008-10-01</td>\n",
       "      <td>510833.0</td>\n",
       "      <td>99.97</td>\n",
       "    </tr>\n",
       "    <tr>\n",
       "      <th>12</th>\n",
       "      <td>2009-01-01</td>\n",
       "      <td>486503.5</td>\n",
       "      <td>90.12</td>\n",
       "    </tr>\n",
       "    <tr>\n",
       "      <th>13</th>\n",
       "      <td>2009-04-01</td>\n",
       "      <td>492034.2</td>\n",
       "      <td>98.92</td>\n",
       "    </tr>\n",
       "    <tr>\n",
       "      <th>14</th>\n",
       "      <td>2009-07-01</td>\n",
       "      <td>487925.4</td>\n",
       "      <td>94.37</td>\n",
       "    </tr>\n",
       "    <tr>\n",
       "      <th>15</th>\n",
       "      <td>2009-10-01</td>\n",
       "      <td>491612.9</td>\n",
       "      <td>90.37</td>\n",
       "    </tr>\n",
       "    <tr>\n",
       "      <th>16</th>\n",
       "      <td>2010-01-01</td>\n",
       "      <td>496748.4</td>\n",
       "      <td>91.10</td>\n",
       "    </tr>\n",
       "    <tr>\n",
       "      <th>17</th>\n",
       "      <td>2010-04-01</td>\n",
       "      <td>499498.9</td>\n",
       "      <td>93.45</td>\n",
       "    </tr>\n",
       "    <tr>\n",
       "      <th>18</th>\n",
       "      <td>2010-07-01</td>\n",
       "      <td>505522.3</td>\n",
       "      <td>87.50</td>\n",
       "    </tr>\n",
       "    <tr>\n",
       "      <th>19</th>\n",
       "      <td>2010-10-01</td>\n",
       "      <td>500249.7</td>\n",
       "      <td>81.73</td>\n",
       "    </tr>\n",
       "    <tr>\n",
       "      <th>20</th>\n",
       "      <td>2011-01-01</td>\n",
       "      <td>491900.7</td>\n",
       "      <td>82.63</td>\n",
       "    </tr>\n",
       "    <tr>\n",
       "      <th>21</th>\n",
       "      <td>2011-04-01</td>\n",
       "      <td>485323.2</td>\n",
       "      <td>83.18</td>\n",
       "    </tr>\n",
       "    <tr>\n",
       "      <th>22</th>\n",
       "      <td>2011-07-01</td>\n",
       "      <td>495034.6</td>\n",
       "      <td>79.24</td>\n",
       "    </tr>\n",
       "    <tr>\n",
       "      <th>23</th>\n",
       "      <td>2011-10-01</td>\n",
       "      <td>494343.5</td>\n",
       "      <td>76.64</td>\n",
       "    </tr>\n",
       "    <tr>\n",
       "      <th>24</th>\n",
       "      <td>2012-01-01</td>\n",
       "      <td>500302.1</td>\n",
       "      <td>76.96</td>\n",
       "    </tr>\n",
       "    <tr>\n",
       "      <th>25</th>\n",
       "      <td>2012-04-01</td>\n",
       "      <td>495190.0</td>\n",
       "      <td>81.25</td>\n",
       "    </tr>\n",
       "    <tr>\n",
       "      <th>26</th>\n",
       "      <td>2012-07-01</td>\n",
       "      <td>492479.9</td>\n",
       "      <td>78.93</td>\n",
       "    </tr>\n",
       "    <tr>\n",
       "      <th>27</th>\n",
       "      <td>2012-10-01</td>\n",
       "      <td>492788.9</td>\n",
       "      <td>79.01</td>\n",
       "    </tr>\n",
       "    <tr>\n",
       "      <th>28</th>\n",
       "      <td>2013-01-01</td>\n",
       "      <td>498214.8</td>\n",
       "      <td>89.06</td>\n",
       "    </tr>\n",
       "    <tr>\n",
       "      <th>29</th>\n",
       "      <td>2013-04-01</td>\n",
       "      <td>502615.3</td>\n",
       "      <td>97.76</td>\n",
       "    </tr>\n",
       "    <tr>\n",
       "      <th>30</th>\n",
       "      <td>2013-07-01</td>\n",
       "      <td>506889.3</td>\n",
       "      <td>99.67</td>\n",
       "    </tr>\n",
       "    <tr>\n",
       "      <th>31</th>\n",
       "      <td>2013-10-01</td>\n",
       "      <td>506109.7</td>\n",
       "      <td>97.77</td>\n",
       "    </tr>\n",
       "    <tr>\n",
       "      <th>32</th>\n",
       "      <td>2014-01-01</td>\n",
       "      <td>512449.5</td>\n",
       "      <td>103.76</td>\n",
       "    </tr>\n",
       "    <tr>\n",
       "      <th>33</th>\n",
       "      <td>2014-04-01</td>\n",
       "      <td>512597.7</td>\n",
       "      <td>102.46</td>\n",
       "    </tr>\n",
       "    <tr>\n",
       "      <th>34</th>\n",
       "      <td>2014-07-01</td>\n",
       "      <td>512288.1</td>\n",
       "      <td>101.74</td>\n",
       "    </tr>\n",
       "    <tr>\n",
       "      <th>35</th>\n",
       "      <td>2014-10-01</td>\n",
       "      <td>517071.7</td>\n",
       "      <td>108.03</td>\n",
       "    </tr>\n",
       "    <tr>\n",
       "      <th>36</th>\n",
       "      <td>2015-01-01</td>\n",
       "      <td>528012.0</td>\n",
       "      <td>118.25</td>\n",
       "    </tr>\n",
       "    <tr>\n",
       "      <th>37</th>\n",
       "      <td>2015-04-01</td>\n",
       "      <td>529496.7</td>\n",
       "      <td>119.51</td>\n",
       "    </tr>\n",
       "    <tr>\n",
       "      <th>38</th>\n",
       "      <td>2015-07-01</td>\n",
       "      <td>531982.6</td>\n",
       "      <td>123.31</td>\n",
       "    </tr>\n",
       "    <tr>\n",
       "      <th>39</th>\n",
       "      <td>2015-10-01</td>\n",
       "      <td>530516.6</td>\n",
       "      <td>120.05</td>\n",
       "    </tr>\n",
       "  </tbody>\n",
       "</table>\n",
       "</div>"
      ],
      "text/plain": [
       "          DATE   JPNNGDP  DEXJPUS\n",
       "0   2006-01-01  525526.8   115.48\n",
       "1   2006-04-01  526522.3   117.07\n",
       "2   2006-07-01  524676.2   115.77\n",
       "3   2006-10-01  530801.0   118.61\n",
       "4   2007-01-01  533919.5   120.45\n",
       "5   2007-04-01  533642.5   118.93\n",
       "6   2007-07-01  529539.0   121.41\n",
       "7   2007-10-01  529607.5   115.87\n",
       "8   2008-01-01  530472.2   107.82\n",
       "9   2008-04-01  525946.8   102.68\n",
       "10  2008-07-01  515788.7   106.85\n",
       "11  2008-10-01  510833.0    99.97\n",
       "12  2009-01-01  486503.5    90.12\n",
       "13  2009-04-01  492034.2    98.92\n",
       "14  2009-07-01  487925.4    94.37\n",
       "15  2009-10-01  491612.9    90.37\n",
       "16  2010-01-01  496748.4    91.10\n",
       "17  2010-04-01  499498.9    93.45\n",
       "18  2010-07-01  505522.3    87.50\n",
       "19  2010-10-01  500249.7    81.73\n",
       "20  2011-01-01  491900.7    82.63\n",
       "21  2011-04-01  485323.2    83.18\n",
       "22  2011-07-01  495034.6    79.24\n",
       "23  2011-10-01  494343.5    76.64\n",
       "24  2012-01-01  500302.1    76.96\n",
       "25  2012-04-01  495190.0    81.25\n",
       "26  2012-07-01  492479.9    78.93\n",
       "27  2012-10-01  492788.9    79.01\n",
       "28  2013-01-01  498214.8    89.06\n",
       "29  2013-04-01  502615.3    97.76\n",
       "30  2013-07-01  506889.3    99.67\n",
       "31  2013-10-01  506109.7    97.77\n",
       "32  2014-01-01  512449.5   103.76\n",
       "33  2014-04-01  512597.7   102.46\n",
       "34  2014-07-01  512288.1   101.74\n",
       "35  2014-10-01  517071.7   108.03\n",
       "36  2015-01-01  528012.0   118.25\n",
       "37  2015-04-01  529496.7   119.51\n",
       "38  2015-07-01  531982.6   123.31\n",
       "39  2015-10-01  530516.6   120.05"
      ]
     },
     "execution_count": 7,
     "metadata": {},
     "output_type": "execute_result"
    }
   ],
   "source": [
    "new_table"
   ]
  },
  {
   "cell_type": "code",
   "execution_count": 8,
   "metadata": {
    "collapsed": false
   },
   "outputs": [
    {
     "data": {
      "text/html": [
       "<div>\n",
       "<table border=\"1\" class=\"dataframe\">\n",
       "  <thead>\n",
       "    <tr style=\"text-align: right;\">\n",
       "      <th></th>\n",
       "      <th>DATE</th>\n",
       "      <th>JPN_GDP</th>\n",
       "      <th>USD_JPY_EXCHANGE</th>\n",
       "    </tr>\n",
       "  </thead>\n",
       "  <tbody>\n",
       "    <tr>\n",
       "      <th>0</th>\n",
       "      <td>2006-01-01</td>\n",
       "      <td>525526.8</td>\n",
       "      <td>115.48</td>\n",
       "    </tr>\n",
       "    <tr>\n",
       "      <th>1</th>\n",
       "      <td>2006-04-01</td>\n",
       "      <td>526522.3</td>\n",
       "      <td>117.07</td>\n",
       "    </tr>\n",
       "    <tr>\n",
       "      <th>2</th>\n",
       "      <td>2006-07-01</td>\n",
       "      <td>524676.2</td>\n",
       "      <td>115.77</td>\n",
       "    </tr>\n",
       "    <tr>\n",
       "      <th>3</th>\n",
       "      <td>2006-10-01</td>\n",
       "      <td>530801.0</td>\n",
       "      <td>118.61</td>\n",
       "    </tr>\n",
       "    <tr>\n",
       "      <th>4</th>\n",
       "      <td>2007-01-01</td>\n",
       "      <td>533919.5</td>\n",
       "      <td>120.45</td>\n",
       "    </tr>\n",
       "  </tbody>\n",
       "</table>\n",
       "</div>"
      ],
      "text/plain": [
       "         DATE   JPN_GDP  USD_JPY_EXCHANGE\n",
       "0  2006-01-01  525526.8            115.48\n",
       "1  2006-04-01  526522.3            117.07\n",
       "2  2006-07-01  524676.2            115.77\n",
       "3  2006-10-01  530801.0            118.61\n",
       "4  2007-01-01  533919.5            120.45"
      ]
     },
     "execution_count": 8,
     "metadata": {},
     "output_type": "execute_result"
    }
   ],
   "source": [
    "new_table.columns = ['DATE','JPN_GDP','USD_JPY_EXCHANGE']\n",
    "new_table.head()"
   ]
  },
  {
   "cell_type": "code",
   "execution_count": 9,
   "metadata": {
    "collapsed": false
   },
   "outputs": [
    {
     "data": {
      "text/html": [
       "<div>\n",
       "<table border=\"1\" class=\"dataframe\">\n",
       "  <thead>\n",
       "    <tr style=\"text-align: right;\">\n",
       "      <th></th>\n",
       "      <th>DATE</th>\n",
       "      <th>JPN_GDP</th>\n",
       "      <th>USD_JPY_EXCHANGE</th>\n",
       "    </tr>\n",
       "  </thead>\n",
       "  <tbody>\n",
       "    <tr>\n",
       "      <th>0</th>\n",
       "      <td>2006-01-01</td>\n",
       "      <td>525526.8</td>\n",
       "      <td>115.48</td>\n",
       "    </tr>\n",
       "    <tr>\n",
       "      <th>1</th>\n",
       "      <td>2006-04-01</td>\n",
       "      <td>526522.3</td>\n",
       "      <td>117.07</td>\n",
       "    </tr>\n",
       "    <tr>\n",
       "      <th>2</th>\n",
       "      <td>2006-07-01</td>\n",
       "      <td>524676.2</td>\n",
       "      <td>115.77</td>\n",
       "    </tr>\n",
       "    <tr>\n",
       "      <th>3</th>\n",
       "      <td>2006-10-01</td>\n",
       "      <td>530801.0</td>\n",
       "      <td>118.61</td>\n",
       "    </tr>\n",
       "    <tr>\n",
       "      <th>4</th>\n",
       "      <td>2007-01-01</td>\n",
       "      <td>533919.5</td>\n",
       "      <td>120.45</td>\n",
       "    </tr>\n",
       "  </tbody>\n",
       "</table>\n",
       "</div>"
      ],
      "text/plain": [
       "         DATE   JPN_GDP  USD_JPY_EXCHANGE\n",
       "0  2006-01-01  525526.8            115.48\n",
       "1  2006-04-01  526522.3            117.07\n",
       "2  2006-07-01  524676.2            115.77\n",
       "3  2006-10-01  530801.0            118.61\n",
       "4  2007-01-01  533919.5            120.45"
      ]
     },
     "execution_count": 9,
     "metadata": {},
     "output_type": "execute_result"
    }
   ],
   "source": [
    "new_table = DataFrame(new_table)\n",
    "\n",
    "new_table.head()"
   ]
  },
  {
   "cell_type": "code",
   "execution_count": 10,
   "metadata": {
    "collapsed": false
   },
   "outputs": [
    {
     "data": {
      "text/plain": [
       "<matplotlib.text.Text at 0x7f2c92619780>"
      ]
     },
     "execution_count": 10,
     "metadata": {},
     "output_type": "execute_result"
    },
    {
     "data": {
      "image/png": "[encoded data removed]",
      "text/plain": [
       "<matplotlib.figure.Figure at 0x7f2c92667940>"
      ]
     },
     "metadata": {},
     "output_type": "display_data"
    }
   ],
   "source": [
    "jp_gdp_exch_scatt = new_table.plot('JPN_GDP','USD_JPY_EXCHANGE',grid=True, kind='scatter', s = 70)\n",
    "\n",
    "jp_gdp_exch_scatt.set_title('Correlation between Japanese GDP and the Exchange Rate ', fontsize = 20)\n",
    "\n",
    "jp_gdp_exch_scatt.set_xlabel('Japanese GDP (Billions of Yen)')\n",
    "\n",
    "jp_gdp_exch_scatt.set_ylabel('Dollar-Yen Exchange Rate (Yen)')"
   ]
  },
  {
   "cell_type": "code",
   "execution_count": 11,
   "metadata": {
    "collapsed": false
   },
   "outputs": [
    {
     "data": {
      "text/plain": [
       "<matplotlib.text.Text at 0x7f2c8ff50dd8>"
      ]
     },
     "execution_count": 11,
     "metadata": {},
     "output_type": "execute_result"
    },
    {
     "data": {
      "image/png": "[encoded data removed]",
      "text/plain": [
       "<matplotlib.figure.Figure at 0x7f2c9262cd30>"
      ]
     },
     "metadata": {},
     "output_type": "display_data"
    }
   ],
   "source": [
    "jp_gdp_plot = new_table[['DATE','JPN_GDP']].set_index('DATE').plot()\n",
    "\n",
    "jp_gdp_plot.set_title('Japanese GDP 2006 - 2015', fontsize =20)\n",
    "\n",
    "jp_gdp_plot.set_ylabel('Japanese GDP (Billions of Yen)')"
   ]
  },
  {
   "cell_type": "code",
   "execution_count": 12,
   "metadata": {
    "collapsed": false
   },
   "outputs": [
    {
     "data": {
      "text/plain": [
       "<matplotlib.text.Text at 0x7f2c902164a8>"
      ]
     },
     "execution_count": 12,
     "metadata": {},
     "output_type": "execute_result"
    },
    {
     "data": {
      "image/png": "[encoded data removed]",
      "text/plain": [
       "<matplotlib.figure.Figure at 0x7f2c901894e0>"
      ]
     },
     "metadata": {},
     "output_type": "display_data"
    }
   ],
   "source": [
    "exchange_plot = new_table[['DATE','USD_JPY_EXCHANGE']].set_index('DATE').plot()\n",
    "\n",
    "exchange_plot.set_title('Dollar Yen Exchange Rate 2006 - 2015', fontsize =20)\n",
    "\n",
    "exchange_plot.set_ylabel('USD-JPY Exchange Rate (Yen)')"
   ]
  },
  {
   "cell_type": "markdown",
   "metadata": {},
   "source": [
    "The scatter plot seems almost linear and the line graphs show similar behaviors between the Exchange rate and GDP over the same time period. "
   ]
  },
  {
   "cell_type": "markdown",
   "metadata": {},
   "source": [
    "### Step 2. Estimate Coefficients (using r and least squares)"
   ]
  },
  {
   "cell_type": "markdown",
   "metadata": {},
   "source": [
    "What is the relationship between these data sets? Are they even correlated?\n",
    "\n",
    "The regression model is: y' = a + bx\n",
    "\n",
    "Where b is the slope and a is the intercept.\n",
    "\n",
    "Therefore: (Yen-Dollar Exchange) = a + b(Japan_GDP)"
   ]
  },
  {
   "cell_type": "code",
   "execution_count": 13,
   "metadata": {
    "collapsed": false
   },
   "outputs": [
    {
     "data": {
      "text/html": [
       "<div>\n",
       "<table border=\"1\" class=\"dataframe\">\n",
       "  <thead>\n",
       "    <tr style=\"text-align: right;\">\n",
       "      <th></th>\n",
       "      <th>DATE</th>\n",
       "      <th>JPN_GDP</th>\n",
       "      <th>USD_JPY_EXCHANGE</th>\n",
       "    </tr>\n",
       "  </thead>\n",
       "  <tbody>\n",
       "  </tbody>\n",
       "</table>\n",
       "</div>"
      ],
      "text/plain": [
       "Empty DataFrame\n",
       "Columns: [DATE, JPN_GDP, USD_JPY_EXCHANGE]\n",
       "Index: []"
      ]
     },
     "execution_count": 13,
     "metadata": {},
     "output_type": "execute_result"
    }
   ],
   "source": [
    "new_table.head(0)"
   ]
  },
  {
   "cell_type": "code",
   "execution_count": 14,
   "metadata": {
    "collapsed": false
   },
   "outputs": [],
   "source": [
    "#First find Sums of X, Y, x^2, y^2 and XY\n",
    "\n",
    "jpn_gdp_Column = new_table['JPN_GDP']\n",
    "exchange_Column = new_table['USD_JPY_EXCHANGE']"
   ]
  },
  {
   "cell_type": "code",
   "execution_count": 15,
   "metadata": {
    "collapsed": false
   },
   "outputs": [
    {
     "data": {
      "text/plain": [
       "count        40.000000\n",
       "mean     510324.442500\n",
       "std       16077.722066\n",
       "min      485323.200000\n",
       "25%      495151.150000\n",
       "50%      508861.150000\n",
       "75%      526894.725000\n",
       "max      533919.500000\n",
       "Name: JPN_GDP, dtype: float64"
      ]
     },
     "execution_count": 15,
     "metadata": {},
     "output_type": "execute_result"
    }
   ],
   "source": [
    "jpn_gdp_Column.describe()"
   ]
  },
  {
   "cell_type": "code",
   "execution_count": 16,
   "metadata": {
    "collapsed": false
   },
   "outputs": [
    {
     "data": {
      "text/plain": [
       "count     40.00000\n",
       "mean     100.19200\n",
       "std       14.99295\n",
       "min       76.64000\n",
       "25%       88.67000\n",
       "50%       99.82000\n",
       "75%      115.79500\n",
       "max      123.31000\n",
       "Name: USD_JPY_EXCHANGE, dtype: float64"
      ]
     },
     "execution_count": 16,
     "metadata": {},
     "output_type": "execute_result"
    }
   ],
   "source": [
    "exchange_Column.describe()"
   ]
  },
  {
   "cell_type": "code",
   "execution_count": 17,
   "metadata": {
    "collapsed": false
   },
   "outputs": [
    {
     "data": {
      "text/plain": [
       "20412977.700000003"
      ]
     },
     "execution_count": 17,
     "metadata": {},
     "output_type": "execute_result"
    }
   ],
   "source": [
    "#Sum of X\n",
    "\n",
    "jpn_gdp_Column.sum()"
   ]
  },
  {
   "cell_type": "code",
   "execution_count": 18,
   "metadata": {
    "collapsed": false
   },
   "outputs": [
    {
     "data": {
      "text/plain": [
       "4007.68"
      ]
     },
     "execution_count": 18,
     "metadata": {},
     "output_type": "execute_result"
    }
   ],
   "source": [
    "#Sum of Y\n",
    "\n",
    "exchange_Column.sum()"
   ]
  },
  {
   "cell_type": "code",
   "execution_count": 19,
   "metadata": {
    "collapsed": false
   },
   "outputs": [
    {
     "data": {
      "text/plain": [
       "2053739718.5369997"
      ]
     },
     "execution_count": 19,
     "metadata": {},
     "output_type": "execute_result"
    }
   ],
   "source": [
    "#Sum of X times Y\n",
    "\n",
    "x_y = jpn_gdp_Column*exchange_Column\n",
    "\n",
    "x_y.sum()"
   ]
  },
  {
   "cell_type": "code",
   "execution_count": 20,
   "metadata": {
    "collapsed": true
   },
   "outputs": [],
   "source": [
    "#Sum of X squared\n",
    "\n",
    "jpn_gdp_sq = jpn_gdp_Column**2"
   ]
  },
  {
   "cell_type": "code",
   "execution_count": 21,
   "metadata": {
    "collapsed": false
   },
   "outputs": [
    {
     "data": {
      "text/plain": [
       "10427322697243.832"
      ]
     },
     "execution_count": 21,
     "metadata": {},
     "output_type": "execute_result"
    }
   ],
   "source": [
    "jpn_gdp_sq.sum()"
   ]
  },
  {
   "cell_type": "code",
   "execution_count": 22,
   "metadata": {
    "collapsed": true
   },
   "outputs": [],
   "source": [
    "#Sum of Y squared\n",
    "\n",
    "exchange_sq = exchange_Column**2"
   ]
  },
  {
   "cell_type": "code",
   "execution_count": 23,
   "metadata": {
    "collapsed": false
   },
   "outputs": [
    {
     "data": {
      "text/plain": [
       "410304.22839999996"
      ]
     },
     "execution_count": 23,
     "metadata": {},
     "output_type": "execute_result"
    }
   ],
   "source": [
    "exchange_sq.sum()"
   ]
  },
  {
   "cell_type": "code",
   "execution_count": 24,
   "metadata": {
    "collapsed": false
   },
   "outputs": [],
   "source": [
    "#Set variables\n",
    "\n",
    "X = new_table.JPN_GDP\n",
    "\n",
    "X = np.vstack(new_table.JPN_GDP)\n",
    "\n",
    "Y = new_table.USD_JPY_EXCHANGE\n",
    "\n",
    "Y = np.vstack(new_table.USD_JPY_EXCHANGE)"
   ]
  },
  {
   "cell_type": "code",
   "execution_count": 25,
   "metadata": {
    "collapsed": true
   },
   "outputs": [],
   "source": [
    "X = np.array([ [value,1] for value in X])"
   ]
  },
  {
   "cell_type": "code",
   "execution_count": 26,
   "metadata": {
    "collapsed": false
   },
   "outputs": [
    {
     "name": "stdout",
     "output_type": "stream",
     "text": [
      "The correlational coefficient (r) is 0.907\n"
     ]
    }
   ],
   "source": [
    "#Find Correlation Coefficients with numpy\n",
    "# [[1          correlation(x, y)]\n",
    "# [correlation(y, x)          1]]\n",
    "\n",
    "corr = np.corrcoef(jpn_gdp_Column,exchange_Column)\n",
    "\n",
    "print('The correlational coefficient (r) is %.3f' %corr[0][1])"
   ]
  },
  {
   "cell_type": "code",
   "execution_count": 27,
   "metadata": {
    "collapsed": false
   },
   "outputs": [],
   "source": [
    "#Use numpy Least Squares (lstsq) to find the Regression Coefficients\n",
    "\n",
    "regression = np.linalg.lstsq(X,exchange_Column)"
   ]
  },
  {
   "cell_type": "code",
   "execution_count": 28,
   "metadata": {
    "collapsed": false
   },
   "outputs": [
    {
     "data": {
      "text/plain": [
       "(array([  8.45398281e-04,  -3.31235407e+02]),\n",
       " array([ 1561.71441487]),\n",
       " 2,\n",
       " array([  3.22913653e+06,   1.96652924e-01]))"
      ]
     },
     "execution_count": 28,
     "metadata": {},
     "output_type": "execute_result"
    }
   ],
   "source": [
    "regression"
   ]
  },
  {
   "cell_type": "code",
   "execution_count": 29,
   "metadata": {
    "collapsed": false
   },
   "outputs": [
    {
     "name": "stdout",
     "output_type": "stream",
     "text": [
      "The slope is 0.0008\n",
      "The y intercept is -331.235\n"
     ]
    }
   ],
   "source": [
    "print('The slope is %.4f' %regression[0][0])\n",
    "print('The y intercept is %.3f' %regression[0][1])"
   ]
  },
  {
   "cell_type": "markdown",
   "metadata": {},
   "source": [
    "### Step 3. Assess Accuracy of Coefficient Estimates (Get Error)"
   ]
  },
  {
   "cell_type": "code",
   "execution_count": 30,
   "metadata": {
    "collapsed": true
   },
   "outputs": [],
   "source": [
    "#Get error\n",
    "\n",
    "total_error = regression[1]"
   ]
  },
  {
   "cell_type": "code",
   "execution_count": 31,
   "metadata": {
    "collapsed": false
   },
   "outputs": [
    {
     "name": "stdout",
     "output_type": "stream",
     "text": [
      "The total error was 1561.714\n"
     ]
    }
   ],
   "source": [
    "print('The total error was %.3f' %total_error[0])"
   ]
  },
  {
   "cell_type": "code",
   "execution_count": 32,
   "metadata": {
    "collapsed": true
   },
   "outputs": [],
   "source": [
    "#Get Root Mean Sqaure Error\n",
    "\n",
    "rmse = np.sqrt(total_error/len(X))"
   ]
  },
  {
   "cell_type": "code",
   "execution_count": 33,
   "metadata": {
    "collapsed": false
   },
   "outputs": [
    {
     "name": "stdout",
     "output_type": "stream",
     "text": [
      "The root mean squared error was 6.25\n"
     ]
    }
   ],
   "source": [
    "print('The root mean squared error was %.2f' %rmse)"
   ]
  },
  {
   "cell_type": "markdown",
   "metadata": {},
   "source": [
    "There's a 95% chance that any given exchange rate in this time period will be within 2 times this error, or 12.5  yen away from the fit line."
   ]
  },
  {
   "cell_type": "markdown",
   "metadata": {},
   "source": [
    "### Step 4. Hypothesis Testing and Significance \n",
    "\n",
    "\n",
    "#### State Hypothesis\n",
    "\n",
    "Null\n",
    "H_0: There is no relationship between X and Y (H_0: B_1 = 0)\n",
    "\n",
    "Alternative\n",
    "H_1: There is a relationship between X and Y  (H_1: B_1 != 0)\n",
    "\n",
    "#### Significance \n",
    "\n",
    "Choose significance level (alpha) \n",
    "\n",
    "95%, or a = 0.05\n",
    "\n",
    "#### Calculate the Test Value (t statistic)"
   ]
  },
  {
   "cell_type": "code",
   "execution_count": 34,
   "metadata": {
    "collapsed": false
   },
   "outputs": [
    {
     "name": "stdout",
     "output_type": "stream",
     "text": [
      "The t-statistic is 13.276\n"
     ]
    }
   ],
   "source": [
    "#find t-statistic\n",
    "\n",
    "r = 0.907\n",
    "\n",
    "t = ((r)*np.sqrt((40-2)/(1-(r**2))))\n",
    "\n",
    "print('The t-statistic is %.3f' %t)"
   ]
  },
  {
   "cell_type": "markdown",
   "metadata": {},
   "source": [
    "#### Calculate the P Value "
   ]
  },
  {
   "cell_type": "code",
   "execution_count": 35,
   "metadata": {
    "collapsed": false
   },
   "outputs": [
    {
     "name": "stdout",
     "output_type": "stream",
     "text": [
      "The p-value is 0.002813\n"
     ]
    }
   ],
   "source": [
    "from scipy.stats import t\n",
    "\n",
    "#pass t statistic and degrees of freedom\n",
    "#checked by hand\n",
    "\n",
    "pvalue = t.sf(13.276, 2)\n",
    "\n",
    "print('The p-value is %f' %pvalue)"
   ]
  },
  {
   "cell_type": "markdown",
   "metadata": {},
   "source": [
    "#### Statistical Decision\n",
    "\n",
    "Where does our test lie?\n",
    "\n",
    "The test results lie in the rejection region, as per a two tailed test (!=) with a 0.05 (95%) confidence interval.\n",
    "\n",
    "The p-value is well bellow 0.05.\n",
    "\n",
    "#### Conclusion\n",
    "\n",
    "Reject Null Hypothesis or not?\n",
    "\n",
    "The hypothesis that there is no relationship between GDP and the Exchange rate can be rejected, or at least not accepted."
   ]
  },
  {
   "cell_type": "markdown",
   "metadata": {},
   "source": [
    "### Step 5. Plot Regression"
   ]
  },
  {
   "cell_type": "code",
   "execution_count": 36,
   "metadata": {
    "collapsed": true
   },
   "outputs": [],
   "source": [
    "m , b = np.linalg.lstsq(X,Y)[0]"
   ]
  },
  {
   "cell_type": "code",
   "execution_count": 37,
   "metadata": {
    "collapsed": false
   },
   "outputs": [
    {
     "data": {
      "text/plain": [
       "<matplotlib.text.Text at 0x7f2c900ca240>"
      ]
     },
     "execution_count": 37,
     "metadata": {},
     "output_type": "execute_result"
    },
    {
     "data": {
      "image/png": "[encoded data removed]",
      "text/plain": [
       "<matplotlib.figure.Figure at 0x7f2c9011e8d0>"
      ]
     },
     "metadata": {},
     "output_type": "display_data"
    }
   ],
   "source": [
    "#Plot centroid using X and Y means\n",
    "\n",
    "plt.plot([510324.442500], [100.192], marker='o', markersize=7, color=\"red\")\n",
    "\n",
    "#Plot best fit line\n",
    "\n",
    "plt.plot(jpn_gdp_Column,exchange_Column, 'o')\n",
    "\n",
    "x = new_table.JPN_GDP\n",
    "\n",
    "plt.plot(x, m*x + b, 'r')\n",
    "\n",
    "plt.title('USD-JPY Exchange Rate and Japanese GDP Regression Line',fontsize=20)\n",
    "\n",
    "plt.xlabel('Japanese GDP (Billions of Yen)')\n",
    "\n",
    "plt.ylabel('USD-Yen Exchange Rate (Yen)')"
   ]
  },
  {
   "cell_type": "markdown",
   "metadata": {},
   "source": [
    "### Step 6. Assess the Accuracy of the Model (Residual Standard Error, R Squared and Residual Plot)"
   ]
  },
  {
   "cell_type": "code",
   "execution_count": 52,
   "metadata": {
    "collapsed": true
   },
   "outputs": [],
   "source": [
    "# Find RSE\n",
    "# RSS = total error\n",
    "RSE = np.sqrt((1/(40-2))*total_error)"
   ]
  },
  {
   "cell_type": "code",
   "execution_count": 53,
   "metadata": {
    "collapsed": false
   },
   "outputs": [
    {
     "name": "stdout",
     "output_type": "stream",
     "text": [
      "The residual standard error was 6.41\n"
     ]
    }
   ],
   "source": [
    "print('The residual standard error was %.2f' %RSE)"
   ]
  },
  {
   "cell_type": "code",
   "execution_count": 40,
   "metadata": {
    "collapsed": false
   },
   "outputs": [
    {
     "name": "stdout",
     "output_type": "stream",
     "text": [
      "The percentage of the variability of Y that was explained by X (R^2) is 0.823\n"
     ]
    }
   ],
   "source": [
    "# Find R^2 \n",
    "\n",
    "r_sq = r**2\n",
    "\n",
    "print('The percentage of the variability of Y that was explained by X (R^2) is %.3f' %r_sq)"
   ]
  },
  {
   "cell_type": "markdown",
   "metadata": {},
   "source": [
    "### Step 7. Plot Residuals  (Machine Learning)"
   ]
  },
  {
   "cell_type": "code",
   "execution_count": 41,
   "metadata": {
    "collapsed": false
   },
   "outputs": [],
   "source": [
    "#Grab the output and set as X and Y test and train data sets \n",
    "\n",
    "from sklearn.model_selection import train_test_split\n",
    "\n",
    "X_train,X_test,Y_train,Y_test = train_test_split(X,new_table.USD_JPY_EXCHANGE)"
   ]
  },
  {
   "cell_type": "code",
   "execution_count": 42,
   "metadata": {
    "collapsed": false
   },
   "outputs": [
    {
     "name": "stdout",
     "output_type": "stream",
     "text": [
      "(30, 2) (10, 2) (30,) (10,)\n"
     ]
    }
   ],
   "source": [
    "print(X_train.shape,X_test.shape,Y_train.shape,Y_test.shape)"
   ]
  },
  {
   "cell_type": "code",
   "execution_count": 43,
   "metadata": {
    "collapsed": false
   },
   "outputs": [
    {
     "data": {
      "text/plain": [
       "LinearRegression(copy_X=True, fit_intercept=True, n_jobs=1, normalize=False)"
      ]
     },
     "execution_count": 43,
     "metadata": {},
     "output_type": "execute_result"
    }
   ],
   "source": [
    "#Predicting\n",
    "\n",
    "#Create our regression object\n",
    "lreg = LinearRegression()\n",
    "\n",
    "#Once again do a linear regression, except only on the training sets \n",
    "lreg.fit(X_train,Y_train)"
   ]
  },
  {
   "cell_type": "code",
   "execution_count": 44,
   "metadata": {
    "collapsed": true
   },
   "outputs": [],
   "source": [
    "#Run a prediction on both the training set and testing set\n",
    "\n",
    "pred_train = lreg.predict(X_train)\n",
    "pred_test = lreg.predict(X_test)"
   ]
  },
  {
   "cell_type": "code",
   "execution_count": 45,
   "metadata": {
    "collapsed": false
   },
   "outputs": [
    {
     "name": "stdout",
     "output_type": "stream",
     "text": [
      "Fit a model X_train, and calculate the MSE with Y_train: 42.31\n",
      "Fit a model X_train, and calculate MSE with X_test and Y_test: 31.82\n"
     ]
    }
   ],
   "source": [
    "#Now take the mean square error (MSE)\n",
    "\n",
    "print('Fit a model X_train, and calculate the MSE with Y_train: %.2f' % np.mean((Y_train - pred_train)**2))\n",
    "print('Fit a model X_train, and calculate MSE with X_test and Y_test: %.2f' % np.mean((Y_test - pred_test)**2))"
   ]
  },
  {
   "cell_type": "code",
   "execution_count": 47,
   "metadata": {
    "collapsed": false
   },
   "outputs": [
    {
     "data": {
      "text/plain": [
       "<matplotlib.text.Text at 0x7f2c90045c88>"
      ]
     },
     "execution_count": 47,
     "metadata": {},
     "output_type": "execute_result"
    },
    {
     "data": {
      "image/png": "[encoded data removed]",
      "text/plain": [
       "<matplotlib.figure.Figure at 0x7f2c8ffc4240>"
      ]
     },
     "metadata": {},
     "output_type": "display_data"
    }
   ],
   "source": [
    "#Residual\n",
    "\n",
    "train = plt.scatter(pred_train,(pred_train - Y_train),c='b',alpha=0.5)\n",
    "\n",
    "test = plt.scatter(pred_test,(pred_test - Y_test),c='r',alpha=0.5)\n",
    "\n",
    "#Plot a horizontal line axis\n",
    "\n",
    "plt.hlines(y=0,xmin=75,xmax=125)\n",
    "\n",
    "plt.legend((train,test),('Training','Test'),loc='lower left')\n",
    "\n",
    "plt.title('USD-JPY Exchange and Japanese GDP Residual Plots',fontsize=20)\n",
    "\n",
    "plt.xlabel('Regression Standardized Predicted Value (Exchange Rate (Yen))')\n",
    "\n",
    "plt.ylabel('Residuals')"
   ]
  },
  {
   "cell_type": "markdown",
   "metadata": {
    "collapsed": true
   },
   "source": [
    "### Conclusion "
   ]
  },
  {
   "cell_type": "markdown",
   "metadata": {},
   "source": [
    "Japanese GDP has a significant and positive relationship with the USD-Yen Exchange rate. Positive changes in GDP correspond with positive changes in the Exchange rate. The regression plot demonstrates the linear nature of the relationship between these variables.\n",
    "\n",
    "The low p-value of the hypothesis test allows for a confident rejection (or non acceptance) of the null hypothesis. The Root Mean Squared Error and the Residual Standard Error terms are both quit small (about 6.3 yen), so it is fair to assume they indicate that this model fits the data well. The high R squared term indicates this as well.\n",
    "\n",
    "The Residual Plot is basically random with no major data structures and helps indicate linearity. The linear model created for this analysis ((Yen-Dollar Exchange) = a + b(Japan_GDP)) can be used to predict the Exchange rate at any value of GDP. People who are interested in, or are dependent on, the USD-Yen exchange rate will need to pay attention to GDP as well.\n",
    " "
   ]
  },
  {
   "cell_type": "code",
   "execution_count": null,
   "metadata": {
    "collapsed": true
   },
   "outputs": [],
   "source": []
  }
 ],
 "metadata": {
  "kernelspec": {
   "display_name": "Python [Root]",
   "language": "python",
   "name": "Python [Root]"
  },
  "language_info": {
   "codemirror_mode": {
    "name": "ipython",
    "version": 3
   },
   "file_extension": ".py",
   "mimetype": "text/x-python",
   "name": "python",
   "nbconvert_exporter": "python",
   "pygments_lexer": "ipython3",
   "version": "3.5.2"
  }
 },
 "nbformat": 4,
 "nbformat_minor": 2
}
